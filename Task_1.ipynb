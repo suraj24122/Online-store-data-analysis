{
 "cells": [
  {
   "cell_type": "code",
   "execution_count": 43,
   "id": "849e8fcc-e2d5-4273-bf2b-c78320f843d5",
   "metadata": {},
   "outputs": [],
   "source": [
    "import json\n",
    "import pandas as pd\n",
    "\n",
    "# Function to load the data\n",
    "def load_data(filename):\n",
    "    with open(filename, \"r\") as f:\n",
    "        data = json.load(f)\n",
    "    return data\n",
    "data = load_data(\"Task_1_data.json\")"
   ]
  },
  {
   "cell_type": "code",
   "execution_count": 45,
   "id": "01240f49-dfdb-4c8d-99f8-9878b21c7559",
   "metadata": {},
   "outputs": [
    {
     "name": "stdout",
     "output_type": "stream",
     "text": [
      "\n",
      " All customers data of an online store = \n",
      "Order id of user is 1001 \n",
      " Customer name = Alice Johnson \n",
      " Product Name = Wireless Mouse \n",
      " Product Category = Electronics \n",
      " Quantity = 2 \n",
      " unit Price = 25.99 \n",
      " Order date = 2025-04-10 \n",
      " Payment Method = Credit Card \n",
      " City = New York \n",
      "\n",
      "Order id of user is 1002 \n",
      " Customer name = Bob Smith \n",
      " Product Name = Bluetooth Speaker \n",
      " Product Category = Electronics \n",
      " Quantity = 1 \n",
      " unit Price = 45.5 \n",
      " Order date = 2025-04-11 \n",
      " Payment Method = PayPal \n",
      " City = Los Angeles \n",
      "\n",
      "Order id of user is 1003 \n",
      " Customer name = Charlie Davis \n",
      " Product Name = Office Chair \n",
      " Product Category = Furniture \n",
      " Quantity = 1 \n",
      " unit Price = 150.0 \n",
      " Order date = 2025-04-12 \n",
      " Payment Method = Credit Card \n",
      " City = Chicago \n",
      "\n",
      "Order id of user is 1004 \n",
      " Customer name = Diana Lee \n",
      " Product Name = Standing Desk \n",
      " Product Category = Furniture \n",
      " Quantity = 1 \n",
      " unit Price = 299.99 \n",
      " Order date = 2025-04-13 \n",
      " Payment Method = Debit Card \n",
      " City = Houston \n",
      "\n",
      "Order id of user is 1005 \n",
      " Customer name = Ethan Patel \n",
      " Product Name = USB-C Cable \n",
      " Product Category = Electronics \n",
      " Quantity = 3 \n",
      " unit Price = 9.99 \n",
      " Order date = 2025-04-14 \n",
      " Payment Method = Credit Card \n",
      " City = Phoenix \n",
      "\n",
      "Order id of user is 1006 \n",
      " Customer name = Fiona Clark \n",
      " Product Name = LED Monitor \n",
      " Product Category = Electronics \n",
      " Quantity = 2 \n",
      " unit Price = 120.0 \n",
      " Order date = 2025-04-15 \n",
      " Payment Method = Net Banking \n",
      " City = Philadelphia \n",
      "\n"
     ]
    },
    {
     "data": {
      "text/plain": [
       "'Display Completed Sucessfully !'"
      ]
     },
     "execution_count": 45,
     "metadata": {},
     "output_type": "execute_result"
    }
   ],
   "source": [
    "# function to display all the data\n",
    "def display_data(data):\n",
    "    print(\"\\n All customers data of an online store = \")\n",
    "    for orders in data[\"orders\"]:\n",
    "        print(f\"Order id of user is {orders['order_id']} \\n Customer name = {orders['customer_name']} \\n Product Name = {orders['product']} \\n Product Category = {orders['category']} \\n Quantity = {orders['quantity']} \\n unit Price = {orders['price_per_unit']} \\n Order date = {orders['order_date']} \\n Payment Method = {orders['payment_method']} \\n City = {orders['city']} \\n\")\n",
    "    return \"Display Completed Sucessfully !\"\n",
    "display_data(data)"
   ]
  },
  {
   "cell_type": "code",
   "execution_count": 47,
   "id": "8b8cd0ef-7a9c-4404-b8ae-b37c4abc1d36",
   "metadata": {},
   "outputs": [
    {
     "name": "stdout",
     "output_type": "stream",
     "text": [
      "Data sucessfully written to Task_1_data_output.xlsx\n"
     ]
    }
   ],
   "source": [
    "# function to convert this data into excel sheet\n",
    "def convert_json_to_excel(json_file, Excel_file):\n",
    "    with open(json_file, \"r\") as f:\n",
    "        data = json.load(f)\n",
    "\n",
    "    # convert to data frame\n",
    "    df = pd.DataFrame(data['orders'])\n",
    "    df.to_excel(Excel_file, index=False)\n",
    "    print(f\"Data sucessfully written to {Excel_file}\")\n",
    "convert_json_to_excel(\"Task_1_data.json\", \"Task_1_data_output.xlsx\")"
   ]
  },
  {
   "cell_type": "code",
   "execution_count": null,
   "id": "9e0da72c-8c7d-4cd4-8ad5-d9b3d1041f0a",
   "metadata": {},
   "outputs": [],
   "source": []
  }
 ],
 "metadata": {
  "kernelspec": {
   "display_name": "Python [conda env:base] *",
   "language": "python",
   "name": "conda-base-py"
  },
  "language_info": {
   "codemirror_mode": {
    "name": "ipython",
    "version": 3
   },
   "file_extension": ".py",
   "mimetype": "text/x-python",
   "name": "python",
   "nbconvert_exporter": "python",
   "pygments_lexer": "ipython3",
   "version": "3.12.7"
  }
 },
 "nbformat": 4,
 "nbformat_minor": 5
}
